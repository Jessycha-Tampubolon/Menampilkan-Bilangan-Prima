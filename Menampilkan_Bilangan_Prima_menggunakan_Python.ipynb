{
  "nbformat": 4,
  "nbformat_minor": 0,
  "metadata": {
    "colab": {
      "name": "Menampilkan Bilangan Prima menggunakan Python.ipynb",
      "provenance": []
    },
    "kernelspec": {
      "name": "python3",
      "display_name": "Python 3"
    },
    "language_info": {
      "name": "python"
    }
  },
  "cells": [
    {
      "cell_type": "code",
      "metadata": {
        "id": "xWefQJcA5qE4",
        "colab": {
          "base_uri": "https://localhost:8080/"
        },
        "outputId": "e925ebc3-f54f-46db-972b-47e2d031ee1b"
      },
      "source": [
        "# Menampilkan bilangan prima pada rentang angka tertentu\n",
        "# Misalnya, bilangan prima pada angka 1 - 100\n",
        "awal = 1\n",
        "akhir = 100 \n",
        "print(\"Bilangan prima pada angka\",awal,\"sampai\",akhir,\":\") \n",
        "for num in range(awal,akhir + 1): \n",
        "    if num > 1: \n",
        "        for i in range(2,num): \n",
        "            if (num % i) == 0: \n",
        "                break \n",
        "        else: \n",
        "            print(num) \n"
      ],
      "execution_count": 3,
      "outputs": [
        {
          "output_type": "stream",
          "name": "stdout",
          "text": [
            "Bilangan prima pada angka 1 sampai 100 :\n",
            "2\n",
            "3\n",
            "5\n",
            "7\n",
            "11\n",
            "13\n",
            "17\n",
            "19\n",
            "23\n",
            "29\n",
            "31\n",
            "37\n",
            "41\n",
            "43\n",
            "47\n",
            "53\n",
            "59\n",
            "61\n",
            "67\n",
            "71\n",
            "73\n",
            "79\n",
            "83\n",
            "89\n",
            "97\n"
          ]
        }
      ]
    }
  ]
}